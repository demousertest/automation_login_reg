{
  "nbformat": 4,
  "nbformat_minor": 0,
  "metadata": {
    "colab": {
      "provenance": [],
      "authorship_tag": "ABX9TyPNkolCwLa/G9nKCHrxhI3s",
      "include_colab_link": true
    },
    "kernelspec": {
      "name": "python3",
      "display_name": "Python 3"
    },
    "language_info": {
      "name": "python"
    }
  },
  "cells": [
    {
      "cell_type": "markdown",
      "metadata": {
        "id": "view-in-github",
        "colab_type": "text"
      },
      "source": [
        "<a href=\"https://colab.research.google.com/github/demousertest/automation_login_reg/blob/main/pyton_interview_practice.ipynb\" target=\"_parent\"><img src=\"https://colab.research.google.com/assets/colab-badge.svg\" alt=\"Open In Colab\"/></a>"
      ]
    },
    {
      "cell_type": "code",
      "execution_count": 3,
      "metadata": {
        "colab": {
          "base_uri": "https://localhost:8080/"
        },
        "id": "-eFJSuDaHaFl",
        "outputId": "61fefd26-1b0d-4abb-d5b8-a108a39a3d0a"
      },
      "outputs": [
        {
          "output_type": "stream",
          "name": "stdout",
          "text": [
            "I\n"
          ]
        }
      ],
      "source": [
        "def int_to_roman(num):\n",
        "    roman_numerals = {\n",
        "        1000: 'M',\n",
        "        900: 'CM',\n",
        "        500: 'D',\n",
        "        400: 'CD',\n",
        "        100: 'C',\n",
        "        90: 'XC',\n",
        "        50: 'L',\n",
        "        40: 'XL',\n",
        "        10: 'X',\n",
        "        9: 'IX',\n",
        "        5: 'V',\n",
        "        4: 'IV',\n",
        "        1: 'I'\n",
        "    }\n",
        "\n",
        "    result = ''\n",
        "    for value, symbol in sorted(roman_numerals.items(), key=lambda x: x[0], reverse=True):\n",
        "        while num >= value:\n",
        "            result += symbol\n",
        "            num -= value\n",
        "\n",
        "    return result\n",
        "\n",
        "# Example usage\n",
        "num = 1\n",
        "output = int_to_roman(num)\n",
        "print(output)"
      ]
    },
    {
      "cell_type": "code",
      "source": [
        "stock_prices = [100, 180, 260, 310, 40, 535, 695]\n",
        "profit = 0\n",
        "sell_day = 0\n",
        "buy_day = 0\n",
        "buy_stock = 0\n",
        "sell_stock = 0\n",
        "for i in range(len(stock_prices)):\n",
        "    for j in range(i,len(stock_prices)):\n",
        "        if stock_prices[j]-stock_prices[i] > profit:\n",
        "            profit = stock_prices[j]-stock_prices[i]\n",
        "            buy_day = i+1\n",
        "            sell_day = j+1\n",
        "            buy_stock = stock_prices[i]\n",
        "            sell_stock = stock_prices[j]\n",
        "print(f\"Buy Day {buy_day} stock price {buy_stock} sell day {sell_day} sell_stock {sell_stock} Max Profit {[profit]}\")"
      ],
      "metadata": {
        "colab": {
          "base_uri": "https://localhost:8080/"
        },
        "id": "NB5Dega1HlnU",
        "outputId": "f3fc2112-552f-48e3-8ea0-bd0adf7e8803"
      },
      "execution_count": 4,
      "outputs": [
        {
          "output_type": "stream",
          "name": "stdout",
          "text": [
            "Buy Day 5 stock price 40 sell day 7 sell_stock 695 Max Profit [655]\n"
          ]
        }
      ]
    },
    {
      "cell_type": "code",
      "source": [
        "class TreeNode:\n",
        "    def __init__(self, value):\n",
        "        self.value = value\n",
        "        self.left = None\n",
        "        self.right = None\n",
        "\n",
        "def postorderTraversal(root):\n",
        "    if not root:\n",
        "        return []\n",
        "\n",
        "    result = []\n",
        "    stack = []\n",
        "    current = root\n",
        "\n",
        "    while stack or current:\n",
        "        if current:\n",
        "            stack.append(current)\n",
        "#             print(current.value)\n",
        "            result.insert(0, current.value)\n",
        "            current = current.right\n",
        "#             print(current.value)\n",
        "        else:\n",
        "            node = stack.pop()\n",
        "            current = node.left\n",
        "\n",
        "    return result\n",
        "\n",
        "# Example usage:\n",
        "# Construct a binary tree\n",
        "root = TreeNode(5)\n",
        "root.left = TreeNode(2)\n",
        "root.right = TreeNode(3)\n",
        "root.left.left = TreeNode(4)\n",
        "root.left.right = TreeNode(1)\n",
        "\n",
        "\n",
        "\n",
        "result = postorderTraversal(root)\n",
        "print(result)"
      ],
      "metadata": {
        "colab": {
          "base_uri": "https://localhost:8080/"
        },
        "id": "mQeQ4p5JIIGe",
        "outputId": "fbc0a9a9-2a0d-4f38-dbd4-c9fab168b802"
      },
      "execution_count": 5,
      "outputs": [
        {
          "output_type": "stream",
          "name": "stdout",
          "text": [
            "[4, 1, 2, 3, 5]\n"
          ]
        }
      ]
    },
    {
      "cell_type": "code",
      "source": [
        "import string\n",
        "import matplotlib.pyplot as plt\n",
        "string1 = \"this is the sample text to count string and plot string\"\n",
        "letters = string.ascii_letters\n",
        "d1 = {}\n",
        "for i in letters:\n",
        "    if i not in d1 and i !=\" \" and i.isalpha() and i in string1:\n",
        "        d1[i.lower()] = string1.count(i.lower())\n",
        "    else:\n",
        "        d1[i.lower()] =string1.count(i.lower())\n",
        "print(d1)\n",
        "category = list(d1.keys())\n",
        "values = list(d1.values())\n",
        "\n",
        "plt.bar(category, values)\n",
        "plt.show()"
      ],
      "metadata": {
        "colab": {
          "base_uri": "https://localhost:8080/",
          "height": 468
        },
        "id": "aUImPYIOIRdR",
        "outputId": "a6c87936-9df0-4ea2-da3e-8e7628ca217a"
      },
      "execution_count": 6,
      "outputs": [
        {
          "output_type": "stream",
          "name": "stdout",
          "text": [
            "{'a': 2, 'b': 0, 'c': 1, 'd': 1, 'e': 3, 'f': 0, 'g': 2, 'h': 2, 'i': 4, 'j': 0, 'k': 0, 'l': 2, 'm': 1, 'n': 4, 'o': 3, 'p': 2, 'q': 0, 'r': 2, 's': 5, 't': 9, 'u': 1, 'v': 0, 'w': 0, 'x': 1, 'y': 0, 'z': 0}\n"
          ]
        },
        {
          "output_type": "display_data",
          "data": {
            "text/plain": [
              "<Figure size 640x480 with 1 Axes>"
            ],
            "image/png": "[encoded data removed]"
          },
          "metadata": {}
        }
      ]
    },
    {
      "cell_type": "code",
      "source": [
        "string1 = \"this is the sample text to count string\"\n",
        "import string\n",
        "letters = string.ascii_letters\n",
        "print(letters)\n",
        "d = {}\n",
        "for i in letters:\n",
        "  if i in string1:\n",
        "    d[i] = string1.count(i)\n",
        "print(d)"
      ],
      "metadata": {
        "colab": {
          "base_uri": "https://localhost:8080/"
        },
        "id": "UoDfagUGIZUr",
        "outputId": "476b0c0d-571e-4589-9d02-cdaeeb63d2a2"
      },
      "execution_count": 9,
      "outputs": [
        {
          "output_type": "stream",
          "name": "stdout",
          "text": [
            "abcdefghijklmnopqrstuvwxyzABCDEFGHIJKLMNOPQRSTUVWXYZ\n",
            "{'a': 1, 'c': 1, 'e': 3, 'g': 1, 'h': 2, 'i': 3, 'l': 1, 'm': 1, 'n': 2, 'o': 2, 'p': 1, 'r': 1, 's': 4, 't': 7, 'u': 1, 'x': 1}\n"
          ]
        }
      ]
    },
    {
      "cell_type": "code",
      "source": [
        "list1 = [1,2,3,4,5,6,7]\n",
        "k = 2\n",
        "out_put =[]\n",
        "for i in range(len(list1)):\n",
        "    sort_list = []\n",
        "    if len(list1) >= k:\n",
        "        for _ in range(k):\n",
        "            sort_list.append(list1.pop(0))\n",
        "    out_put = out_put +sorted(sort_list,reverse=True)\n",
        "\n",
        "print(out_put)\n",
        "if list1 :\n",
        "    out_put =out_put+list1\n",
        "\n",
        "print(out_put)"
      ],
      "metadata": {
        "colab": {
          "base_uri": "https://localhost:8080/"
        },
        "id": "jBG1u4bKI-0b",
        "outputId": "ac95065b-a2d3-45e5-b325-f6237b25fa83"
      },
      "execution_count": 11,
      "outputs": [
        {
          "output_type": "stream",
          "name": "stdout",
          "text": [
            "[2, 1, 4, 3, 6, 5]\n",
            "[2, 1, 4, 3, 6, 5, 7]\n"
          ]
        }
      ]
    },
    {
      "cell_type": "code",
      "source": [
        " def solveSudoku(board):\n",
        "    def is_valid(num, row, col):\n",
        "        # Check if 'num' is valid in the current row, column, and 3x3 subgrid\n",
        "        for i in range(9):\n",
        "            if board[row][i] == num or board[i][col] == num or board[3 * (row // 3) + i // 3][3 * (col // 3) + i % 3] == num:\n",
        "                return False\n",
        "        return True\n",
        "\n",
        "    def backtrack():\n",
        "        for row in range(9):\n",
        "            for col in range(9):\n",
        "                if board[row][col] == \".\":\n",
        "                    for num in map(str, range(1, 10)):\n",
        "                        if is_valid(num, row, col):\n",
        "                            board[row][col] = num\n",
        "                            if backtrack():\n",
        "                                return True\n",
        "                            board[row][col] = \".\"\n",
        "                    return False\n",
        "        return True\n",
        "\n",
        "    backtrack()\n",
        "\n",
        "# Helper function to print the Sudoku board\n",
        "def print_sudoku(board):\n",
        "    for row in board:\n",
        "        print(\" \".join(row))\n",
        "\n",
        "# Example input Sudoku board\n",
        "input_board = [[\"5\",\"3\",\".\",\".\",\"7\",\".\",\".\",\".\",\".\"],\n",
        "               [\"6\",\".\",\".\",\"1\",\"9\",\"5\",\".\",\".\",\".\"],\n",
        "               [\".\",\"9\",\"8\",\".\",\".\",\".\",\".\",\"6\",\".\"],\n",
        "               [\"8\",\".\",\".\",\".\",\"6\",\".\",\".\",\".\",\"3\"],\n",
        "               [\"4\",\".\",\".\",\"8\",\".\",\"3\",\".\",\".\",\"1\"],\n",
        "               [\"7\",\".\",\".\",\".\",\"2\",\".\",\".\",\".\",\"6\"],\n",
        "               [\".\",\"6\",\".\",\".\",\".\",\".\",\"2\",\"8\",\".\"],\n",
        "               [\".\",\".\",\".\",\"4\",\"1\",\"9\",\".\",\".\",\"5\"],\n",
        "               [\".\",\".\",\".\",\".\",\"8\",\".\",\".\",\"7\",\"9\"]]\n",
        "\n",
        "# Solve the Sudoku puzzle\n",
        "solveSudoku(input_board)\n",
        "\n",
        "# Print the solved Sudoku board\n",
        "print_sudoku(input_board)"
      ],
      "metadata": {
        "colab": {
          "base_uri": "https://localhost:8080/"
        },
        "id": "iaHZB-FuJ3-A",
        "outputId": "2a044806-d587-4ba7-935f-44e22ee5db13"
      },
      "execution_count": 12,
      "outputs": [
        {
          "output_type": "stream",
          "name": "stdout",
          "text": [
            "5 3 4 6 7 8 9 1 2\n",
            "6 7 2 1 9 5 3 4 8\n",
            "1 9 8 3 4 2 5 6 7\n",
            "8 5 9 7 6 1 4 2 3\n",
            "4 2 6 8 5 3 7 9 1\n",
            "7 1 3 9 2 4 8 5 6\n",
            "9 6 1 5 3 7 2 8 4\n",
            "2 8 7 4 1 9 6 3 5\n",
            "3 4 5 2 8 6 1 7 9\n"
          ]
        }
      ]
    },
    {
      "cell_type": "code",
      "source": [
        "import re\n",
        "\n",
        "def isMatch(s, p):\n",
        "    pattern = re.sub(r'\\*', '.*', re.sub(r'\\?', '.', p))\n",
        "    return bool(re.match(pattern, s) and re.match(pattern, s).group() == s)\n",
        "\n",
        "s = \"cb\"\n",
        "p = \"?a\"\n",
        "result = isMatch(s, p)\n",
        "print(result)"
      ],
      "metadata": {
        "colab": {
          "base_uri": "https://localhost:8080/"
        },
        "id": "yfPIJAb7M7ub",
        "outputId": "fec90e4d-0cb9-45bf-af72-8019c44c4574"
      },
      "execution_count": 13,
      "outputs": [
        {
          "output_type": "stream",
          "name": "stdout",
          "text": [
            "False\n"
          ]
        }
      ]
    },
    {
      "cell_type": "code",
      "source": [
        "matrix = [[1,2,3],[4,5,6],[7,8,9]]\n",
        "# Output: [[7,4,1],[8,5,2],[9,6,3]]\n",
        "# for i in range(len(matrix)):\n",
        "#     for j in range(i,len(matrix)):\n",
        "#         matrix[i][j], matrix[j][i] = matrix[j][i], matrix[i][j]\n",
        "# for i in range(len(matrix)):\n",
        "#     matrix[i] = matrix[i][::-1]\n",
        "# print(matrix)\n",
        "\n",
        "\n",
        "output_list = []\n",
        "for row in zip(*matrix):\n",
        "    r =list(row)\n",
        "    for i in range(len(r)):\n",
        "        for j in range(i,len(r)):\n",
        "            r[i],r[j] = r[j],r[i]\n",
        "    output_list.append(r)\n",
        "print((output_list))"
      ],
      "metadata": {
        "colab": {
          "base_uri": "https://localhost:8080/"
        },
        "id": "7dfUgtP6NLj9",
        "outputId": "3d2da51b-7366-4a0e-b397-919c76fe82f3"
      },
      "execution_count": 18,
      "outputs": [
        {
          "output_type": "stream",
          "name": "stdout",
          "text": [
            "[[7, 4, 1], [8, 5, 2], [9, 6, 3]]\n"
          ]
        }
      ]
    },
    {
      "cell_type": "code",
      "source": [
        "words = [\"This\", \"is\", \"an\", \"example\", \"of\", \"text\", \"justification.\"]\n",
        "result, test_list, num_of_letter = [], [], 0\n",
        "maxWidth = 16\n",
        "for word in words:\n",
        "    if len(word) + len(test_list) + num_of_letter >maxWidth:\n",
        "        for i in range(maxWidth - num_of_letter):\n",
        "            test_list[i % (len(test_list) - 1 or 1)] += ' '\n",
        "        result.append(\"\".join(test_list))\n",
        "        test_list, num_of_letter = [],0\n",
        "\n",
        "    test_list += [word]\n",
        "    num_of_letter += len(word)\n",
        "result.append(\" \".join(test_list).ljust(maxWidth))\n",
        "# print(result)\n",
        "\n",
        "for i in result:\n",
        "    print(i)"
      ],
      "metadata": {
        "colab": {
          "base_uri": "https://localhost:8080/"
        },
        "id": "xSdJQwUnNdUO",
        "outputId": "e8d3dbe5-cfe5-4e83-8f53-8750508fd538"
      },
      "execution_count": 21,
      "outputs": [
        {
          "output_type": "stream",
          "name": "stdout",
          "text": [
            "This    is    an\n",
            "example  of text\n",
            "justification.  \n"
          ]
        }
      ]
    },
    {
      "cell_type": "code",
      "source": [
        "nums = [1, -1, -3, -2, 3]\n",
        "k = 3\n",
        "x = 2\n",
        "result = []\n",
        "def get_beatuy(sublist):\n",
        "    neg_num = sorted([i for i in sublist if i<=0])\n",
        "    return neg_num[x-1] if len(neg_num)>=x else 0\n",
        "\n",
        "for i in range(len(nums)-k+1):\n",
        "    sublists = nums[i:i+k]\n",
        "    result.append(get_beatuy(sublists))\n",
        "print(result)"
      ],
      "metadata": {
        "colab": {
          "base_uri": "https://localhost:8080/"
        },
        "id": "FcnkgDz2OcHm",
        "outputId": "d44454dd-6d2c-4cef-b958-318e4f810373"
      },
      "execution_count": 22,
      "outputs": [
        {
          "output_type": "stream",
          "name": "stdout",
          "text": [
            "[-1, -2, -2]\n"
          ]
        }
      ]
    },
    {
      "cell_type": "code",
      "source": [
        "from itertools import combinations\n",
        "nums = [2, 1, 4]\n",
        "n = len(nums)\n",
        "result = 0\n",
        "for r in range(1, n + 1):\n",
        "    for combo in combinations(nums, r):\n",
        "        print(combo)\n",
        "        total = (max(combo) **2 * min(combo))%(10**9+7)\n",
        "        result += total\n",
        "print(result)"
      ],
      "metadata": {
        "colab": {
          "base_uri": "https://localhost:8080/"
        },
        "id": "LVmiliKlOs31",
        "outputId": "6277b5cb-cecb-47bc-d513-3cdfc20104b7"
      },
      "execution_count": 23,
      "outputs": [
        {
          "output_type": "stream",
          "name": "stdout",
          "text": [
            "(2,)\n",
            "(1,)\n",
            "(4,)\n",
            "(2, 1)\n",
            "(2, 4)\n",
            "(1, 4)\n",
            "(2, 1, 4)\n",
            "141\n"
          ]
        }
      ]
    },
    {
      "cell_type": "code",
      "source": [
        "positive_feedback = [\"smart\", \"brilliant\", \"studious\"]\n",
        "negative_feedback = [\"not\"]\n",
        "report = [\"this student is studious\", \"the student is smart\",\"the student is not smart\"]\n",
        "# student_id = [1, 2]\n",
        "student_points = {}\n",
        "for j in range(len(report)):\n",
        "    student = j+1\n",
        "    student_points.setdefault(student, 0)\n",
        "    if negative_feedback[0] in report[j]:\n",
        "        student_points[student] =1\n",
        "\n",
        "    else:\n",
        "        for k in positive_feedback:\n",
        "            if k in report[j]:\n",
        "\n",
        "                student_points[student] =3\n",
        "\n",
        "print(student_points)\n",
        "print(list(student_points.keys()))\n"
      ],
      "metadata": {
        "colab": {
          "base_uri": "https://localhost:8080/"
        },
        "id": "QD2I0LSNO1yX",
        "outputId": "8593f8d6-26bc-4f5e-f9a7-3629fb9b458c"
      },
      "execution_count": 24,
      "outputs": [
        {
          "output_type": "stream",
          "name": "stdout",
          "text": [
            "{1: 3, 2: 3, 3: 1}\n",
            "[1, 2, 3]\n"
          ]
        }
      ]
    },
    {
      "cell_type": "code",
      "source": [
        "s = \")()())\"\n",
        "count = 0\n",
        "for i in range(len(s)-1):\n",
        "    if s[i] ==\"(\" and s[i+1] == \")\":\n",
        "        count +=2\n",
        "print(count)"
      ],
      "metadata": {
        "colab": {
          "base_uri": "https://localhost:8080/"
        },
        "id": "K2-qsd5bTdLl",
        "outputId": "ca5195f4-feea-4395-90d9-91f95d912bb7"
      },
      "execution_count": 25,
      "outputs": [
        {
          "output_type": "stream",
          "name": "stdout",
          "text": [
            "4\n"
          ]
        }
      ]
    },
    {
      "cell_type": "code",
      "source": [
        "receptor = {'A' : 'a',\n",
        "           'B' : '0',\n",
        "           'C' : '1',\n",
        "           'D' : '2'}\n",
        "\n",
        "opp_sides = {\n",
        "    'a' : \"BC\",\n",
        "    \"b\" : \"CD\",\n",
        "    \"c\" : \"DA\",\n",
        "    \"d\" : \"AB\"\n",
        "}\n",
        "\n",
        "distance = {\n",
        "    \"BC\" : '0-1',\n",
        "    \"CD\" : '1-2',\n",
        "    \"DA\" : '2-a',\n",
        "    \"AB\" : 'a-0'\n",
        "}\n",
        "\n",
        "mirror_receptor = \"\"\n",
        "for k, v in receptor.items():\n",
        "    if v.isalpha():\n",
        "        if v == 'a':\n",
        "            opposite_side = opp_sides[v]\n",
        "            mirror_receptor += 'D'\n",
        "        elif v == 'b':\n",
        "            opposite_side = opp_sides[v]\n",
        "            mirror_receptor += 'A'\n",
        "        elif v == 'c':\n",
        "            opposite_side = opp_sides[v]\n",
        "            mirror_receptor += 'B'\n",
        "        elif v == 'd':\n",
        "            opposite_side = opp_sides[v]\n",
        "            mirror_receptor += 'C'\n",
        "\n",
        "print(f\"opposite side : {opposite_side}\")\n",
        "print(f\"Ray meet receptor {receptor[mirror_receptor]}\")\n",
        "\n",
        "# \"\"\"\n",
        "# AB =\n",
        "# B = 0\n",
        "# C = 1\n",
        "# D = 2\n",
        "# A = a\n",
        "# a = 0-1\n",
        "# a = D\n",
        "# a <-> BC\n",
        "# b <-> CD\n",
        "# c <-> DA\n",
        "# d <-> AB\n",
        "# BC = 0-1\n",
        "# CD = 1-2\n",
        "\n",
        "# \"\"\""
      ],
      "metadata": {
        "colab": {
          "base_uri": "https://localhost:8080/"
        },
        "id": "XvyThhlkTjnn",
        "outputId": "060f02e5-88ec-42fc-db23-9a3aece1a98b"
      },
      "execution_count": 28,
      "outputs": [
        {
          "output_type": "stream",
          "name": "stdout",
          "text": [
            "opposite side : BC\n",
            "Ray meet receptor 2\n"
          ]
        }
      ]
    },
    {
      "cell_type": "code",
      "source": [
        "\n",
        "import math\n",
        "class shape:\n",
        "    def area(self):\n",
        "        pass\n",
        "class Rectangle(shape):\n",
        "    def __init__(self, length, width):\n",
        "        self.length = length\n",
        "        self.width = width\n",
        "    def area(self):\n",
        "        return self.length*self.width\n",
        "\n",
        "class Triangle(shape):\n",
        "    def __init__(self, base, height):\n",
        "        self.base = base\n",
        "        self.height = height\n",
        "    def area(self):\n",
        "        return (0.5 * self.base * self.height)\n",
        "\n",
        "class Circle(shape):\n",
        "    def __init__(self, radius):\n",
        "        self.radius = radius\n",
        "\n",
        "    def area(self):\n",
        "        return (math.pi * self.radius * self.radius)\n",
        "\n",
        "class main():\n",
        "    value = input(\"Are you ready for play : Yes/No \").lower()\n",
        "    while value != 'no':\n",
        "        while True:\n",
        "            select_num = int(input(\"Enter 1 for Rectangle, 2 for Triangle, 3 for circle : \"))\n",
        "            if select_num < 4 and select_num > 0:\n",
        "                print(f\"You have selected : {select_num}\")\n",
        "                break\n",
        "            else:\n",
        "                print(\"Enter number only 1,2, and 3\")\n",
        "\n",
        "        if select_num == 1:\n",
        "            length_val = int(input(\"Enter Rectangle length values : \"))\n",
        "            width_val = int(input(\"Enter Rectangle width values : \"))\n",
        "            result  = Rectangle(length_val, width_val)\n",
        "            print(f\"Rectangle Area is : {result.area()}\")\n",
        "        elif select_num == 2:\n",
        "            base_val = int(input(\"Enter Triangle base values : \"))\n",
        "            height_val = int(input(\"Enter Triangle height values : \"))\n",
        "            result = Triangle(base_val,height_val)\n",
        "            print(f\"Triangle Area is : {result.area()}\")\n",
        "        else:\n",
        "            radius_val = int(input(\"Enter radius Values : \"))\n",
        "            result = Circle(radius_val)\n",
        "            print(f\"Circle Area is : {result.area()}\")\n",
        "        value = input(\"Do you want to continue : (Yes/No) \")\n",
        "main()\n"
      ],
      "metadata": {
        "colab": {
          "base_uri": "https://localhost:8080/"
        },
        "id": "KyR4HgCOTv6v",
        "outputId": "c3ba1e50-15c3-494b-e653-0b9b09172db7"
      },
      "execution_count": 29,
      "outputs": [
        {
          "name": "stdout",
          "output_type": "stream",
          "text": [
            "Are you ready for play : Yes/No yes\n",
            "Enter 1 for Rectangle, 2 for Triangle, 3 for circle : 4\n",
            "Enter number only 1,2, and 3\n",
            "Enter 1 for Rectangle, 2 for Triangle, 3 for circle : 3\n",
            "You have selected : 3\n",
            "Enter radius Values : 23\n",
            "Circle Area is : 1661.9025137490005\n",
            "Do you want to continue : (Yes/No) no\n"
          ]
        },
        {
          "output_type": "execute_result",
          "data": {
            "text/plain": [
              "<__main__.main at 0x7e0f1f14c690>"
            ]
          },
          "metadata": {},
          "execution_count": 29
        }
      ]
    },
    {
      "cell_type": "code",
      "source": [
        "\n",
        "user_profile = {}\n",
        "\n",
        "for i in range(0, 4):\n",
        "    input_field = input(\"Enter Field Name: \").title()\n",
        "    input_val = input(\"Enter Field Value: \").title()\n",
        "    user_profile[input_field] = input_val\n",
        "\n",
        "print(user_profile)\n",
        "\n",
        "def edit_profile(args):\n",
        "    input_field = input(\"Enter Update Field Name: \").title()\n",
        "    input_val = input(\"Enter Update Field Value: \").title()\n",
        "    args[input_field] = input_val\n",
        "    return args\n",
        "\n",
        "while True:\n",
        "    ip_val = input(\"Enter 'Yes' if you want to Edit the Profile or Enter No: \").title()\n",
        "    if ip_val == 'Yes':\n",
        "        edit_profile(user_profile)\n",
        "        print(user_profile)\n",
        "    elif ip_val == 'No':\n",
        "        print(\"Thanks for your selection.\")\n",
        "        break\n",
        "    else:\n",
        "        print(\"Your Selection is not correct\")\n"
      ],
      "metadata": {
        "colab": {
          "base_uri": "https://localhost:8080/"
        },
        "id": "jQBLTbkEUG0n",
        "outputId": "9331bcab-d226-46d8-c329-470c69f7ace1"
      },
      "execution_count": 32,
      "outputs": [
        {
          "output_type": "stream",
          "name": "stdout",
          "text": [
            "Enter Field Name: hemant\n",
            "Enter Field Value: 25\n",
            "Enter Field Name: vinit\n",
            "Enter Field Value: 26\n",
            "Enter Field Name: rogit\n",
            "Enter Field Value: 30\n",
            "Enter Field Name: mohit21\n",
            "Enter Field Value: 21\n",
            "{'Hemant': '25', 'Vinit': '26', 'Rogit': '30', 'Mohit21': '21'}\n",
            "Enter 'Yes' if you want to Edit the Profile or Enter No: ashok\n",
            "Your Selection is not correct\n",
            "Enter 'Yes' if you want to Edit the Profile or Enter No: 40\n",
            "Your Selection is not correct\n",
            "Enter 'Yes' if you want to Edit the Profile or Enter No: no\n",
            "Thanks for your selection.\n"
          ]
        }
      ]
    },
    {
      "cell_type": "code",
      "source": [
        "\n",
        "import math\n",
        "\n",
        "class Shape:\n",
        "    def area(self):\n",
        "        pass\n",
        "\n",
        "class Rectangle(Shape):\n",
        "    def __init__(self, length, width):\n",
        "        self.length = length\n",
        "        self.width = width\n",
        "\n",
        "    def area(self):\n",
        "        return self.length * self.width\n",
        "\n",
        "class Triangle(Shape):\n",
        "    def __init__(self, base, height):\n",
        "        self.base = base\n",
        "        self.height = height\n",
        "\n",
        "    def area(self):\n",
        "        return 0.5 * self.base * self.height\n",
        "\n",
        "class Circle(Shape):\n",
        "    def __init__(self, radius):\n",
        "        self.radius = radius\n",
        "\n",
        "    def area(self):\n",
        "        return math.pi * self.radius * self.radius\n",
        "\n",
        "def main():\n",
        "    shapes = {\n",
        "        1: Rectangle,\n",
        "        2: Triangle,\n",
        "        3: Circle,\n",
        "    }\n",
        "\n",
        "    while True:\n",
        "        select_num = int(input(\"Enter 1 for Rectangle, 2 for Triangle, 3 for Circle, or 0 to exit: \"))\n",
        "\n",
        "        if select_num == 0:\n",
        "            break\n",
        "\n",
        "        if select_num in shapes:\n",
        "            shape_class = shapes[select_num]\n",
        "            params = shape_class.__init__.__code__.co_varnames[1:]\n",
        "            values = [int(input(f\"Enter {param} value: \")) for param in params]\n",
        "            result = shape_class(*values)\n",
        "            print(f\"{shape_class.__name__} Area is: {result.area()}\")\n",
        "        else:\n",
        "            print(\"Invalid selection. Please choose 1, 2, 3, or 0 to exit.\")\n",
        "\n",
        "main()\n"
      ],
      "metadata": {
        "colab": {
          "base_uri": "https://localhost:8080/"
        },
        "id": "DULX-P6vUS1_",
        "outputId": "774644ec-e662-4223-b39b-29705101c0a8"
      },
      "execution_count": 33,
      "outputs": [
        {
          "name": "stdout",
          "output_type": "stream",
          "text": [
            "Enter 1 for Rectangle, 2 for Triangle, 3 for Circle, or 0 to exit: 2\n",
            "Enter base value: 12\n",
            "Enter height value: 10\n",
            "Triangle Area is: 60.0\n",
            "Enter 1 for Rectangle, 2 for Triangle, 3 for Circle, or 0 to exit: 0\n"
          ]
        }
      ]
    },
    {
      "cell_type": "code",
      "source": [
        "import re\n",
        "\n",
        "email_pattern = r'[a-zA-Z0-9.]+@[a-zA-Z.]+\\.[a-z|A-Z]{2,3}'\n",
        "with open('./test.txt', 'r') as text:\n",
        "    text_val = text.read()\n",
        "\n",
        "    email_addresses = re.findall(email_pattern, text_val)\n",
        "\n",
        "    for email in email_addresses:\n",
        "        print(email)"
      ],
      "metadata": {
        "colab": {
          "base_uri": "https://localhost:8080/",
          "height": 216
        },
        "id": "SznilOzTVLO2",
        "outputId": "ff1803a3-467a-453d-b151-d4847cfd9855"
      },
      "execution_count": 39,
      "outputs": [
        {
          "output_type": "error",
          "ename": "FileNotFoundError",
          "evalue": "[Errno 2] No such file or directory: './test.txt'",
          "traceback": [
            "\u001b[0;31m---------------------------------------------------------------------------\u001b[0m",
            "\u001b[0;31mFileNotFoundError\u001b[0m                         Traceback (most recent call last)",
            "\u001b[0;32m/tmp/ipython-input-39-1949226702.py\u001b[0m in \u001b[0;36m<cell line: 0>\u001b[0;34m()\u001b[0m\n\u001b[1;32m      2\u001b[0m \u001b[0;34m\u001b[0m\u001b[0m\n\u001b[1;32m      3\u001b[0m \u001b[0memail_pattern\u001b[0m \u001b[0;34m=\u001b[0m \u001b[0;34mr'[a-zA-Z0-9.]+@[a-zA-Z.]+\\.[a-z|A-Z]{2,3}'\u001b[0m\u001b[0;34m\u001b[0m\u001b[0;34m\u001b[0m\u001b[0m\n\u001b[0;32m----> 4\u001b[0;31m \u001b[0;32mwith\u001b[0m \u001b[0mopen\u001b[0m\u001b[0;34m(\u001b[0m\u001b[0;34m'./test.txt'\u001b[0m\u001b[0;34m,\u001b[0m \u001b[0;34m'r'\u001b[0m\u001b[0;34m)\u001b[0m \u001b[0;32mas\u001b[0m \u001b[0mtext\u001b[0m\u001b[0;34m:\u001b[0m\u001b[0;34m\u001b[0m\u001b[0;34m\u001b[0m\u001b[0m\n\u001b[0m\u001b[1;32m      5\u001b[0m     \u001b[0mtext_val\u001b[0m \u001b[0;34m=\u001b[0m \u001b[0mtext\u001b[0m\u001b[0;34m.\u001b[0m\u001b[0mread\u001b[0m\u001b[0;34m(\u001b[0m\u001b[0;34m)\u001b[0m\u001b[0;34m\u001b[0m\u001b[0;34m\u001b[0m\u001b[0m\n\u001b[1;32m      6\u001b[0m \u001b[0;34m\u001b[0m\u001b[0m\n",
            "\u001b[0;31mFileNotFoundError\u001b[0m: [Errno 2] No such file or directory: './test.txt'"
          ]
        }
      ]
    },
    {
      "cell_type": "code",
      "source": [],
      "metadata": {
        "id": "YtCP2GFBVVzx"
      },
      "execution_count": null,
      "outputs": []
    }
  ]
}